{
 "cells": [
  {
   "cell_type": "code",
   "execution_count": 1,
   "metadata": {},
   "outputs": [],
   "source": [
    "import tensorflow as tf\n",
    "import numpy as np"
   ]
  },
  {
   "cell_type": "code",
   "execution_count": 20,
   "metadata": {},
   "outputs": [],
   "source": [
    "class MultiheadAttention(tf.keras.layers.Layer):\n",
    "    def __init__(self, num_heads, d_model):\n",
    "        super().__init__()\n",
    "        self.d_model = d_model  # e.g., 300\n",
    "        self.num_heads = num_heads  # e.g., 10\n",
    "\n",
    "        self.depth = d_model // self.num_heads  # e.g., 30\n",
    "\n",
    "        self.wq = tf.keras.layers.Dense(d_model)\n",
    "        self.wk = tf.keras.layers.Dense(d_model)\n",
    "        self.wv = tf.keras.layers.Dense(d_model)\n",
    "        \n",
    "        self.dense = tf.keras.layers.Dense(d_model)\n",
    "\n",
    "    def split_heads(self, x, batch_size):\n",
    "        # Shape of x: (batch_size, n, d_model)\n",
    "        x = tf.reshape(x, (batch_size, -1, self.num_heads, self.depth))\n",
    "        return tf.transpose(x, perm=[0, 2, 1, 3])\n",
    "    \n",
    "    def scaled_dot_product_attention(self, q, k, v, mask, causal_mask):\n",
    "        # Shape of q, k, v: (batch, num_heads, n, depth)\n",
    "        n = q.shape[2]\n",
    "        matmul_qk = tf.matmul(q, k, transpose_b=True)  # Shape: (batch, num_heads, n, d) * (batch, num_heads, d, n) --> (batch, num_heads, n, n)\n",
    "\n",
    "        d_k = tf.cast(tf.shape(k)[-1], tf.float32)\n",
    "        scaled_attention_logits = matmul_qk / tf.math.sqrt(d_k)  # Shape: (batch, num_heads, n, n)\n",
    "\n",
    "        if mask is not None:\n",
    "            # Originally mask is of shape (batch, n), but here:\n",
    "            # Mask should be of shape: (batch, 1, 1, n)\n",
    "            scaled_attention_logits += (mask * -1e9)  # Apply mask\n",
    "\n",
    "        if causal_mask:\n",
    "            mask = tf.linalg.band_part(tf.ones((n, n), dtype=tf.int32), num_lower=-1, num_upper=0)  # Shape: (n, n)\n",
    "            mask = tf.where(mask==0, 1e-9, 1)\n",
    "            scaled_attention_logits = scaled_attention_logits * mask\n",
    "\n",
    "        attention_weights = tf.nn.softmax(scaled_attention_logits, axis=-1)  # Shape: (batch, num_heads, n, n)\n",
    "\n",
    "        output = tf.matmul(attention_weights, v)  # Shape: (batch, num_heads, n, depth)\n",
    "\n",
    "        return output, attention_weights\n",
    "\n",
    "    \n",
    "    def call(self, query, key, value, mask, causal_mask):\n",
    "        # Shape of x: (batch_size, n, d_model)\n",
    "        batch_size = tf.shape(query)[0]\n",
    "\n",
    "        q = self.wq(query)\n",
    "        k = self.wk(key)\n",
    "        v = self.wv(value)\n",
    "\n",
    "        q = self.split_heads(q, batch_size)\n",
    "        k = self.split_heads(k, batch_size)\n",
    "        v = self.split_heads(k, batch_size)\n",
    "\n",
    "        scaled_attention, attention_weights = self.scaled_dot_product_attention(q, k, v, mask, causal_mask)\n",
    "        scaled_attention = tf.transpose(scaled_attention, perm=[0, 2, 1, 3])\n",
    "\n",
    "        concat_attention = tf.reshape(scaled_attention, (batch_size, -1, self.d_model))\n",
    "\n",
    "        return concat_attention, attention_weights"
   ]
  },
  {
   "cell_type": "code",
   "execution_count": null,
   "metadata": {},
   "outputs": [],
   "source": []
  }
 ],
 "metadata": {
  "kernelspec": {
   "display_name": "Python 3",
   "language": "python",
   "name": "python3"
  },
  "language_info": {
   "codemirror_mode": {
    "name": "ipython",
    "version": 3
   },
   "file_extension": ".py",
   "mimetype": "text/x-python",
   "name": "python",
   "nbconvert_exporter": "python",
   "pygments_lexer": "ipython3",
   "version": "3.11.0"
  },
  "orig_nbformat": 4
 },
 "nbformat": 4,
 "nbformat_minor": 2
}
