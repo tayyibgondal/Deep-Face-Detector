{
  "cells": [
    {
      "cell_type": "markdown",
      "metadata": {
        "id": "1MS37DgBdGRL"
      },
      "source": [
        "## Importing libraries"
      ]
    },
    {
      "cell_type": "code",
      "execution_count": 1,
      "metadata": {
        "colab": {
          "base_uri": "https://localhost:8080/"
        },
        "id": "qbXMK_63b0J7",
        "outputId": "46da8385-2903-406d-9bed-a00a356c7a0c"
      },
      "outputs": [
        {
          "output_type": "stream",
          "name": "stdout",
          "text": [
            "Reading package lists... Done\n",
            "Building dependency tree... Done\n",
            "Reading state information... Done\n",
            "Package libcudnn8 is not available, but is referred to by another package.\n",
            "This may mean that the package is missing, has been obsoleted, or\n",
            "is only available from another source\n",
            "\n",
            "\u001b[1;31mE: \u001b[0mVersion '8.1.0.77-1+cuda11.2' for 'libcudnn8' was not found\u001b[0m\n",
            "Requirement already satisfied: protobuf~=3.20.3 in /usr/local/lib/python3.10/dist-packages (3.20.3)\n"
          ]
        }
      ],
      "source": [
        "# Install the most re version of TensorFlow to use the improved\n",
        "# masking support for `tf.keras.layers.MultiHeadAttention`.\n",
        "!apt install --allow-change-held-packages libcudnn8=8.1.0.77-1+cuda11.2\n",
        "!pip uninstall -y -q tensorflow keras tensorflow-estimator tensorflow-text\n",
        "!pip install protobuf~=3.20.3\n",
        "!pip install -q tensorflow_datasets\n",
        "!pip install -q -U tensorflow-text tensorflow"
      ]
    },
    {
      "cell_type": "code",
      "execution_count": 2,
      "metadata": {
        "id": "yWcUVyTYb9_l"
      },
      "outputs": [],
      "source": [
        "import logging\n",
        "import time\n",
        "\n",
        "import numpy as np\n",
        "import matplotlib.pyplot as plt\n",
        "\n",
        "import tensorflow_datasets as tfds\n",
        "import tensorflow as tf\n",
        "\n",
        "import tensorflow_text"
      ]
    },
    {
      "cell_type": "markdown",
      "metadata": {
        "id": "sT86iuVFdJsi"
      },
      "source": [
        "## Loading data"
      ]
    },
    {
      "cell_type": "code",
      "execution_count": 3,
      "metadata": {
        "id": "R2WtD2LWcFtn"
      },
      "outputs": [],
      "source": [
        "examples, metadata = tfds.load('ted_hrlr_translate/pt_to_en',\n",
        "                               with_info=True,\n",
        "                               as_supervised=True)\n",
        "\n",
        "train_examples, val_examples = examples['train'], examples['validation']"
      ]
    },
    {
      "cell_type": "code",
      "execution_count": 4,
      "metadata": {
        "colab": {
          "base_uri": "https://localhost:8080/"
        },
        "id": "w1WBZPEvdTij",
        "outputId": "196c7dc3-e795-44c4-a996-d79c9adf5b09"
      },
      "outputs": [
        {
          "output_type": "stream",
          "name": "stdout",
          "text": [
            "tfds.core.DatasetInfo(\n",
            "    name='ted_hrlr_translate',\n",
            "    full_name='ted_hrlr_translate/pt_to_en/1.0.0',\n",
            "    description=\"\"\"\n",
            "    Data sets derived from TED talk transcripts for comparing similar language pairs\n",
            "    where one is high resource and the other is low resource.\n",
            "    \"\"\",\n",
            "    config_description=\"\"\"\n",
            "    Translation dataset from pt to en in plain text.\n",
            "    \"\"\",\n",
            "    homepage='https://github.com/neulab/word-embeddings-for-nmt',\n",
            "    data_path='/root/tensorflow_datasets/ted_hrlr_translate/pt_to_en/1.0.0',\n",
            "    file_format=tfrecord,\n",
            "    download_size=124.94 MiB,\n",
            "    dataset_size=10.89 MiB,\n",
            "    features=Translation({\n",
            "        'en': Text(shape=(), dtype=string),\n",
            "        'pt': Text(shape=(), dtype=string),\n",
            "    }),\n",
            "    supervised_keys=('pt', 'en'),\n",
            "    disable_shuffling=False,\n",
            "    splits={\n",
            "        'test': <SplitInfo num_examples=1803, num_shards=1>,\n",
            "        'train': <SplitInfo num_examples=51785, num_shards=1>,\n",
            "        'validation': <SplitInfo num_examples=1193, num_shards=1>,\n",
            "    },\n",
            "    citation=\"\"\"@inproceedings{Ye2018WordEmbeddings,\n",
            "      author  = {Ye, Qi and Devendra, Sachan and Matthieu, Felix and Sarguna, Padmanabhan and Graham, Neubig},\n",
            "      title   = {When and Why are pre-trained word embeddings useful for Neural Machine Translation},\n",
            "      booktitle = {HLT-NAACL},\n",
            "      year    = {2018},\n",
            "      }\"\"\",\n",
            ")\n"
          ]
        }
      ],
      "source": [
        "print(metadata)"
      ]
    },
    {
      "cell_type": "code",
      "execution_count": 5,
      "metadata": {
        "colab": {
          "base_uri": "https://localhost:8080/"
        },
        "id": "fGENXLHhcIbs",
        "outputId": "85a80f75-dab8-44d2-d745-175d579eda77"
      },
      "outputs": [
        {
          "output_type": "stream",
          "name": "stdout",
          "text": [
            "<class 'tensorflow.python.data.ops.prefetch_op._PrefetchDataset'>\n",
            "<class 'tensorflow.python.data.ops.prefetch_op._PrefetchDataset'>\n"
          ]
        }
      ],
      "source": [
        "print(type(train_examples))\n",
        "print(type(val_examples))"
      ]
    },
    {
      "cell_type": "code",
      "execution_count": 6,
      "metadata": {
        "colab": {
          "base_uri": "https://localhost:8080/"
        },
        "id": "0XJOlWL6cQlN",
        "outputId": "6278403e-1b9e-4538-8503-b29aa0c33f5b"
      },
      "outputs": [
        {
          "output_type": "stream",
          "name": "stdout",
          "text": [
            "> Examples in Portuguese:\n",
            "e quando melhoramos a procura , tiramos a única vantagem da impressão , que é a serendipidade .\n",
            "mas e se estes fatores fossem ativos ?\n",
            "mas eles não tinham a curiosidade de me testar .\n",
            "\n",
            "> Examples in English:\n",
            "and when you improve searchability , you actually take away the one advantage of print , which is serendipity .\n",
            "but what if it were active ?\n",
            "but they did n't test for curiosity .\n"
          ]
        }
      ],
      "source": [
        "for pt_examples, en_examples in train_examples.batch(3).take(1):\n",
        "  print('> Examples in Portuguese:')\n",
        "  for pt in pt_examples.numpy():\n",
        "    print(pt.decode('utf-8'))\n",
        "  print()\n",
        "\n",
        "  print('> Examples in English:')\n",
        "  for en in en_examples.numpy():\n",
        "    print(en.decode('utf-8'))"
      ]
    },
    {
      "cell_type": "markdown",
      "metadata": {
        "id": "1pLO46WueLDt"
      },
      "source": [
        "## Preprocessing the data"
      ]
    },
    {
      "cell_type": "code",
      "execution_count": 7,
      "metadata": {
        "colab": {
          "base_uri": "https://localhost:8080/",
          "height": 35
        },
        "id": "l-j2GKhocdCg",
        "outputId": "cbb10831-4072-4927-d46c-d28bafdc13c3"
      },
      "outputs": [
        {
          "output_type": "execute_result",
          "data": {
            "text/plain": [
              "'./ted_hrlr_translate_pt_en_converter.zip'"
            ],
            "application/vnd.google.colaboratory.intrinsic+json": {
              "type": "string"
            }
          },
          "metadata": {},
          "execution_count": 7
        }
      ],
      "source": [
        "model_name = 'ted_hrlr_translate_pt_en_converter'\n",
        "tf.keras.utils.get_file(\n",
        "    f'{model_name}.zip',\n",
        "    f'https://storage.googleapis.com/download.tensorflow.org/models/{model_name}.zip',\n",
        "    cache_dir='.', cache_subdir='', extract=True\n",
        ")"
      ]
    },
    {
      "cell_type": "code",
      "execution_count": 8,
      "metadata": {
        "id": "aUqMYBn-chLU"
      },
      "outputs": [],
      "source": [
        "tokenizers = tf.saved_model.load(model_name)"
      ]
    },
    {
      "cell_type": "code",
      "execution_count": 9,
      "metadata": {
        "id": "6xN0oVU7cki6"
      },
      "outputs": [],
      "source": [
        "MAX_TOKENS=128\n",
        "def prepare_batch(pt, en):\n",
        "    pt = tokenizers.pt.tokenize(pt)      # Output is ragged.\n",
        "    pt = pt[:, :MAX_TOKENS]    # Trim to MAX_TOKENS.\n",
        "    pt = pt.to_tensor()  # Convert to 0-padded dense Tensor\n",
        "\n",
        "    en = tokenizers.en.tokenize(en)\n",
        "    en = en[:, :(MAX_TOKENS+1)]\n",
        "    en_inputs = en[:, :-1].to_tensor()  # Drop the [END] tokens\n",
        "    en_labels = en[:, 1:].to_tensor()   # Drop the [START] tokens\n",
        "\n",
        "    return (pt, en_inputs), en_labels"
      ]
    },
    {
      "cell_type": "code",
      "execution_count": 10,
      "metadata": {
        "id": "kvGcr_DOeSB3"
      },
      "outputs": [],
      "source": [
        "BUFFER_SIZE = 20000\n",
        "BATCH_SIZE = 64\n",
        "MAX_TOKENS=128"
      ]
    },
    {
      "cell_type": "code",
      "execution_count": 11,
      "metadata": {
        "id": "NpWYr6RRenrK"
      },
      "outputs": [],
      "source": [
        "def make_batches(ds):\n",
        "  return (\n",
        "      ds\n",
        "      .shuffle(BUFFER_SIZE)\n",
        "      .batch(BATCH_SIZE)\n",
        "      .map(prepare_batch, tf.data.AUTOTUNE)\n",
        "      .prefetch(buffer_size=tf.data.AUTOTUNE))"
      ]
    },
    {
      "cell_type": "code",
      "execution_count": 12,
      "metadata": {
        "id": "XgrdDVxhepRu"
      },
      "outputs": [],
      "source": [
        "# Create training and validation set batches.\n",
        "train_batches = make_batches(train_examples)\n",
        "val_batches = make_batches(val_examples)"
      ]
    },
    {
      "cell_type": "code",
      "execution_count": 13,
      "metadata": {
        "colab": {
          "base_uri": "https://localhost:8080/"
        },
        "id": "JcUNxQJBeq_V",
        "outputId": "037ebd63-fd84-40c5-9935-e739b4a17d4f"
      },
      "outputs": [
        {
          "output_type": "stream",
          "name": "stdout",
          "text": [
            "<class 'tensorflow.python.data.ops.prefetch_op._PrefetchDataset'>\n"
          ]
        }
      ],
      "source": [
        "print(type(train_batches))"
      ]
    },
    {
      "cell_type": "code",
      "execution_count": 14,
      "metadata": {
        "colab": {
          "base_uri": "https://localhost:8080/"
        },
        "id": "sg_i7aXseuPX",
        "outputId": "c1e1ddfe-93bc-434d-9cac-01c541baded6"
      },
      "outputs": [
        {
          "output_type": "stream",
          "name": "stdout",
          "text": [
            "810\n"
          ]
        }
      ],
      "source": [
        "print(len(train_batches))"
      ]
    },
    {
      "cell_type": "code",
      "execution_count": 15,
      "metadata": {
        "colab": {
          "base_uri": "https://localhost:8080/"
        },
        "id": "FmeBgyoGewr8",
        "outputId": "3af6b254-60dc-4742-bc7c-663547e8dbfe"
      },
      "outputs": [
        {
          "output_type": "stream",
          "name": "stdout",
          "text": [
            "(64, 106)\n",
            "(64, 105)\n",
            "(64, 105)\n"
          ]
        }
      ],
      "source": [
        "for (pt, en), en_labels in train_batches.take(1):\n",
        "  break\n",
        "\n",
        "print(pt.shape)\n",
        "print(en.shape)\n",
        "print(en_labels.shape)"
      ]
    },
    {
      "cell_type": "code",
      "execution_count": 16,
      "metadata": {
        "colab": {
          "base_uri": "https://localhost:8080/"
        },
        "id": "X3ULjR45e_y3",
        "outputId": "2ddc9d57-58cb-45db-febf-0fe5ba0ffce7"
      },
      "outputs": [
        {
          "output_type": "stream",
          "name": "stdout",
          "text": [
            "tf.Tensor([   2   87 1631   15   15   15    0    0    0    0], shape=(10,), dtype=int64)\n",
            "tf.Tensor([  87 1631   15   15   15    3    0    0    0    0], shape=(10,), dtype=int64)\n"
          ]
        }
      ],
      "source": [
        "print(en[0][:10])\n",
        "print(en_labels[0][:10])"
      ]
    },
    {
      "cell_type": "markdown",
      "metadata": {
        "id": "3SSh1MQpe6e9"
      },
      "source": [
        "## Defining the components"
      ]
    },
    {
      "cell_type": "markdown",
      "metadata": {
        "id": "ZYlawXw2H55m"
      },
      "source": [
        "### 1. Positional Embedding Layer"
      ]
    },
    {
      "cell_type": "code",
      "execution_count": 17,
      "metadata": {
        "colab": {
          "base_uri": "https://localhost:8080/"
        },
        "id": "dCXvgKAQed63",
        "outputId": "645e86d8-762a-4f23-e272-ee15e4e9c0f5"
      },
      "outputs": [
        {
          "output_type": "execute_result",
          "data": {
            "text/plain": [
              "TensorShape([4, 2])"
            ]
          },
          "metadata": {},
          "execution_count": 17
        }
      ],
      "source": [
        "def positional_encoding(length, depth):\n",
        "  depth = depth/2\n",
        "\n",
        "  positions = np.arange(length)[:, np.newaxis]     # (seq, 1)\n",
        "  depths = np.arange(depth)[np.newaxis, :]/depth   # (1, depth)\n",
        "\n",
        "  angle_rates = 1 / (10000**depths)         # (1, depth)\n",
        "  angle_rads = positions * angle_rates      # (pos, depth)\n",
        "\n",
        "  pos_encoding = np.concatenate(\n",
        "      [np.sin(angle_rads), np.cos(angle_rads)],\n",
        "      axis=-1)\n",
        "\n",
        "  return tf.cast(pos_encoding, dtype=tf.float32)\n",
        "\n",
        "positional_encoding(4, 2).shape"
      ]
    },
    {
      "cell_type": "code",
      "execution_count": 18,
      "metadata": {
        "id": "Efof73IIfjOw"
      },
      "outputs": [],
      "source": [
        "class PositionalEmbedding(tf.keras.layers.Layer):\n",
        "  def __init__(self, vocab_size, d_model):\n",
        "    super().__init__()\n",
        "    self.d_model = d_model\n",
        "    self.embedding = tf.keras.layers.Embedding(vocab_size, d_model, mask_zero=True)\n",
        "    self.pos_encoding = positional_encoding(length=2048, depth=d_model)\n",
        "\n",
        "  def compute_mask(self, *args, **kwargs):\n",
        "    return self.embedding.compute_mask(*args, **kwargs)\n",
        "\n",
        "  def call(self, x):\n",
        "    length = tf.shape(x)[1]  # No of words\n",
        "    x = self.embedding(x)\n",
        "    # This factor sets the relative scale of the embedding and positonal_encoding.\n",
        "    x *= tf.math.sqrt(tf.cast(self.d_model, tf.float32))\n",
        "    x = x + self.pos_encoding[tf.newaxis, :length, :]\n",
        "    return x\n"
      ]
    },
    {
      "cell_type": "code",
      "execution_count": 19,
      "metadata": {
        "colab": {
          "base_uri": "https://localhost:8080/"
        },
        "id": "KI917NVcjAwo",
        "outputId": "ff567d0b-c1e0-4372-b3ae-4776947f387e"
      },
      "outputs": [
        {
          "output_type": "stream",
          "name": "stdout",
          "text": [
            "(64, 106, 512)\n",
            "(64, 105, 512)\n"
          ]
        }
      ],
      "source": [
        "embed_pt = PositionalEmbedding(vocab_size=tokenizers.pt.get_vocab_size(), d_model=512)\n",
        "embed_en = PositionalEmbedding(vocab_size=tokenizers.en.get_vocab_size(), d_model=512)\n",
        "\n",
        "# pt and en are single sentences\n",
        "pt_emb = embed_pt(pt)\n",
        "en_emb = embed_en(en)\n",
        "print(pt_emb.shape)\n",
        "print(en_emb.shape)"
      ]
    },
    {
      "cell_type": "code",
      "execution_count": 20,
      "metadata": {
        "colab": {
          "base_uri": "https://localhost:8080/"
        },
        "id": "Fi7DlEsjkD8P",
        "outputId": "653e8c05-7205-4eb4-9155-cac32ebddfb2"
      },
      "outputs": [
        {
          "output_type": "stream",
          "name": "stdout",
          "text": [
            "(64, 105)\n",
            "(64, 106)\n"
          ]
        }
      ],
      "source": [
        "mask_dec = tf.cast(en_emb._keras_mask, tf.float32) # for decoder\n",
        "mask_enc = tf.cast(pt_emb._keras_mask, tf.float32) # for encoder\n",
        "print(mask_dec.shape)\n",
        "print(mask_enc.shape)"
      ]
    },
    {
      "cell_type": "markdown",
      "metadata": {
        "id": "dVSMO45zIBea"
      },
      "source": [
        "### 2. Attention Layers"
      ]
    },
    {
      "cell_type": "code",
      "execution_count": 48,
      "metadata": {
        "id": "wi51QCnhD_Im"
      },
      "outputs": [],
      "source": [
        "class MultiheadAttention(tf.keras.layers.Layer):\n",
        "    def __init__(self, num_heads, d_model, dropout=0.1):\n",
        "        super().__init__()\n",
        "        self.d_model = d_model  # e.g., 300\n",
        "        self.num_heads = num_heads  # e.g., 10\n",
        "\n",
        "        self.depth = d_model // self.num_heads  # e.g., 30\n",
        "\n",
        "        self.wq = tf.keras.layers.Dense(d_model)\n",
        "        self.wk = tf.keras.layers.Dense(d_model)\n",
        "        self.wv = tf.keras.layers.Dense(d_model)\n",
        "\n",
        "        self.proj = tf.keras.Sequential([\n",
        "            tf.keras.layers.Dense(d_model),\n",
        "            tf.keras.layers.Dropout(dropout)\n",
        "        ])\n",
        "\n",
        "    def split_heads(self, x, batch_size):\n",
        "        # Shape of x: (batch_size, n, d_model)\n",
        "        x = tf.reshape(x, (batch_size, -1, self.num_heads, self.depth))\n",
        "        return tf.transpose(x, perm=[0, 2, 1, 3])  # (batch, heads, n, depth)\n",
        "\n",
        "    def scaled_dot_product_attention(self, q, k, v, mask, causal_mask, cross_attention=False):\n",
        "        # Shape of q, k, v: (batch, num_heads, n, depth)\n",
        "        # For cross attention: q is (batch, num_heads, n, 1, depth) and k, v are (batch, num_heads, 1, n_context, depth)\n",
        "        # For cross attention up: q is (batch, num_heads, n, depth) and k, v are (batch, num_heads, n_context, depth)\n",
        "        n = q.shape[2]\n",
        "        # n_context = k.shape[3]\n",
        "        n_context = k.shape[2]\n",
        "        batch_size = q.shape[0]\n",
        "        # print(f'n is: {n}')\n",
        "        # print(f'n context is: {n_context}')\n",
        "        # print(f'batch size is: {batch_size}')\n",
        "        # print(f'shape of q is: {q.shape} and of k is: {k.shape} and of v is: {v.shape}')\n",
        "\n",
        "        matmul_qk = tf.matmul(q, k, transpose_b=True)  # Shape: (batch, num_heads, n, d) * (batch, num_heads, d, n) --> (batch, num_heads, n, n)\n",
        "        # For cross attention: (batch, num_heads, n, 1, depth) * (batch, num_heads, 1, n_context, depth) --> (batch, num_heads, n, 1, n_context)\n",
        "        # For cross attention up: (batch, num_heads, n, depth) * (batch, num_heads, n_context, depth) --> (batch, num_heads, n, n_context)\n",
        "        # print(f'shape of qk is: {matmul_qk.shape}')\n",
        "\n",
        "        d_k = tf.cast(tf.shape(k)[-1], tf.float32)\n",
        "        scaled_attention_logits = matmul_qk / tf.math.sqrt(d_k)  # Shape: (batch, num_heads, n, n)\n",
        "        # For cross attention, shape would be: (batch, num_heads, n, 1, n_context)\n",
        "        # For cross attention up, shape would be: (batch, num_heads, n, n_context)\n",
        "        # print(f'shape of mask is: {mask.shape}')\n",
        "        # print(f\"Cross attention is: {cross_attention}\")\n",
        "        # print(f'causal_mask is: {causal_mask}')\n",
        "\n",
        "        if mask is not None:\n",
        "            # Originally mask is of shape (batch, n), but here:\n",
        "            if cross_attention:\n",
        "              # Mask should be of shape: (batch, 1, n, 1, 1)\n",
        "              # Mask should be of shape up: (batch, 1, n, 1)\n",
        "              # reshaped_mask = tf.reshape(mask, (batch_size, 1, n, 1, 1))\n",
        "              reshaped_mask = tf.reshape(mask, (batch_size, 1, n, 1))\n",
        "              # print(f\"Reshaping mask according to cross att, shape: {reshaped_mask.shape}\")\n",
        "            else:\n",
        "              # Mask should be of shape: (batch, 1, 1, n)\n",
        "              reshaped_mask = tf.reshape(mask, (batch_size, 1, 1, n))\n",
        "              # print(f\"Reshaping mask according to normal att, shape: {reshaped_mask.shape}\")\n",
        "\n",
        "            scaled_attention_logits += reshaped_mask*-1e9  # Apply mask\n",
        "            # print(f'shape of attention logits after masking: {scaled_attention_logits.shape}')\n",
        "\n",
        "        # Shape of logits before causal mask: (batch, num_heads, n, n)\n",
        "        if causal_mask:\n",
        "            mask = tf.linalg.band_part(tf.ones((1, 1, n, n), dtype=tf.int32), num_lower=-1, num_upper=0)  # Shape: (1, 1, n, n)\n",
        "            mask = tf.where(mask==0, 1e-9, 1)\n",
        "            # print(f'causal mask shape is: {mask.shape}')\n",
        "            scaled_attention_logits = scaled_attention_logits * mask\n",
        "            # print(f'after applying causal mask, shape of attention logits: {scaled_attention_logits.shape}')\n",
        "\n",
        "        attention_weights = tf.nn.softmax(scaled_attention_logits, axis=-1)  # Shape: (batch, num_heads, n, n)\n",
        "        # print(f'attention weights shape is: {attention_weights.shape}')\n",
        "        # If cross_attention: (batch, num_heads, n, 1, n_context)\n",
        "        # If cross_attention up: (batch, num_heads, n, n_context)\n",
        "\n",
        "        output = tf.matmul(attention_weights, v)  # Shape: (batch, num_heads, n, depth)\n",
        "        # For cross attention: (batch, num_heads, n, 1, n_context) *  (batch, num_heads, 1, n_context, depth) --> (batch, num_heads, n, 1, depth)\n",
        "        # For cross attention up: (batch, num_heads, n, n_context) *  (batch, num_heads, n_context, depth) --> (batch, num_heads, n, depth)\n",
        "\n",
        "        # if cross_attention:\n",
        "        #   # print(f'Shape of output at the end of cross attention is: {output.shape}')\n",
        "        #   output = tf.squeeze(output, axis=3)\n",
        "\n",
        "        # print(f'shape of output is: {output.shape}')\n",
        "        return output, attention_weights\n",
        "\n",
        "\n",
        "    def call(self, query, key, value, mask, causal_mask, cross_attention=False):\n",
        "        # Shape of x: (batch_size, n, d_model)\n",
        "        batch_size = tf.shape(query)[0]\n",
        "\n",
        "        q = self.wq(query)  # (batch_size, n, d_model)\n",
        "        k = self.wk(key)  # (batch_size, n_context, d_model)\n",
        "        v = self.wv(value)  # (batch_size, n_context, d_model)\n",
        "\n",
        "        q = self.split_heads(q, batch_size) # (batch, heads, n, depth)\n",
        "        k = self.split_heads(k, batch_size) # (batch, heads, n_context, depth)\n",
        "        v = self.split_heads(v, batch_size) # (batch, heads, n_context, depth)\n",
        "\n",
        "        # if cross_attention:\n",
        "        #   q = tf.expand_dims(q, axis=3)  # (batch, heads, n, 1, depth)\n",
        "        #   k = tf.expand_dims(k, axis=2)  # (batch, heads, 1, n_context, depth)\n",
        "        #   v = tf.expand_dims(v, axis=2)  # (batch, heads, 1, n_context, depth)\n",
        "\n",
        "\n",
        "        scaled_attention, attention_weights = self.scaled_dot_product_attention(q, k, v, mask, causal_mask, cross_attention) # (batch, num_heads, n, depth)\n",
        "        scaled_attention = tf.transpose(scaled_attention, perm=[0, 2, 1, 3])\n",
        "\n",
        "        concat_attention = tf.reshape(scaled_attention, (batch_size, -1, self.d_model))\n",
        "        concat_attention = self.proj(concat_attention)\n",
        "\n",
        "        return concat_attention, attention_weights"
      ]
    },
    {
      "cell_type": "code",
      "execution_count": 46,
      "metadata": {
        "id": "6n0RA1zc2v2T"
      },
      "outputs": [],
      "source": [
        "# # Cross attention test\n",
        "# mha = MultiheadAttention(num_heads=16, d_model=64)\n",
        "\n",
        "# b = 32\n",
        "# d = 64\n",
        "# n = 10\n",
        "# n_context = 20\n",
        "\n",
        "# q = tf.ones((b, n, d))\n",
        "# k = tf.ones((b, n_context, d))\n",
        "# v = tf.ones((b, n_context, d))\n",
        "# mask = tf.ones((b, n), dtype=tf.float32)\n",
        "\n",
        "# print(q.shape)\n",
        "# print(k.shape)\n",
        "# print(v.shape)\n",
        "# print(mask.shape)\n",
        "# print(f'context: {n_context} and n: {n}')\n",
        "\n",
        "# mha(query=q, key=k, value=v, mask=mask, causal_mask=False, cross_attention=True)[0].shape"
      ]
    },
    {
      "cell_type": "code",
      "execution_count": 47,
      "metadata": {
        "id": "VTtWLkG-hssy"
      },
      "outputs": [],
      "source": [
        "# # Causal attention test\n",
        "# mha = MultiheadAttention(num_heads=2, d_model=200)\n",
        "# inp = tf.random.uniform((3, 5, 10))\n",
        "# mask = tf.zeros((3, 5))\n",
        "# mask = tf.reshape(mask, (3, 1, 1, 5))\n",
        "# output = mha(inp, inp, inp, mask, True)[0]\n",
        "# print(output.shape)"
      ]
    },
    {
      "cell_type": "code",
      "execution_count": 24,
      "metadata": {
        "id": "uxzc62ATkGCn"
      },
      "outputs": [],
      "source": [
        "# All its child layers need num_heads and key_dim(or dmodel) for initialization\n",
        "class BaseAttention(tf.keras.layers.Layer):\n",
        "  def __init__(self, **kwargs):\n",
        "    super().__init__()\n",
        "    self.mha = MultiheadAttention(**kwargs)\n",
        "    self.layernorm = tf.keras.layers.LayerNormalization()\n",
        "    self.add = tf.keras.layers.Add()"
      ]
    },
    {
      "cell_type": "code",
      "execution_count": 25,
      "metadata": {
        "id": "6-0y49Ugmjtq"
      },
      "outputs": [],
      "source": [
        "class CrossAttention(BaseAttention):\n",
        "  def call(self, x, context, mask):\n",
        "    attn_output, attn_scores = self.mha(\n",
        "        query=x,\n",
        "        key=context,\n",
        "        value=context,\n",
        "        mask=mask,\n",
        "        causal_mask=False,\n",
        "        cross_attention=True)\n",
        "\n",
        "    x = self.add([x, attn_output])\n",
        "    x = self.layernorm(x)\n",
        "\n",
        "    return x"
      ]
    },
    {
      "cell_type": "code",
      "execution_count": 26,
      "metadata": {
        "colab": {
          "base_uri": "https://localhost:8080/"
        },
        "id": "vlrK9CwHo_rk",
        "outputId": "2afa348a-89cd-4348-95c1-390108836ea2"
      },
      "outputs": [
        {
          "output_type": "stream",
          "name": "stdout",
          "text": [
            "context: (64, 106, 512)\n",
            "input: (64, 105, 512)\n",
            "mask: (64, 105)\n"
          ]
        },
        {
          "output_type": "execute_result",
          "data": {
            "text/plain": [
              "TensorShape([64, 105, 512])"
            ]
          },
          "metadata": {},
          "execution_count": 26
        }
      ],
      "source": [
        "sample_ca = CrossAttention(num_heads=2, d_model=512)\n",
        "\n",
        "print('context:', pt_emb.shape)\n",
        "print('input:', en_emb.shape)\n",
        "print('mask:', mask_dec.shape)\n",
        "\n",
        "sample_ca(en_emb, pt_emb, mask_dec).shape"
      ]
    },
    {
      "cell_type": "code",
      "execution_count": 27,
      "metadata": {
        "id": "qk35ucEkoOUc"
      },
      "outputs": [],
      "source": [
        "class GlobalSelfAttention(BaseAttention):\n",
        "  def call(self, x, mask):\n",
        "    attn_output, attention_score = self.mha(\n",
        "        query=x,\n",
        "        value=x,\n",
        "        key=x,\n",
        "        mask=mask,\n",
        "        causal_mask=False)\n",
        "\n",
        "    x = self.add([x, attn_output])\n",
        "    x = self.layernorm(x)\n",
        "    return x"
      ]
    },
    {
      "cell_type": "code",
      "execution_count": 28,
      "metadata": {
        "colab": {
          "base_uri": "https://localhost:8080/"
        },
        "id": "k88l_-BMo0Gp",
        "outputId": "472d80ce-4c9c-4c57-fcd2-25abd7cf8477"
      },
      "outputs": [
        {
          "output_type": "stream",
          "name": "stdout",
          "text": [
            "(64, 106, 512)\n",
            "(64, 106)\n",
            "(64, 106, 512)\n"
          ]
        }
      ],
      "source": [
        "sample_gsa = GlobalSelfAttention(num_heads=2, d_model=512)\n",
        "\n",
        "print(pt_emb.shape)\n",
        "print(mask_enc.shape)\n",
        "print(sample_gsa(pt_emb, mask_enc).shape)"
      ]
    },
    {
      "cell_type": "code",
      "execution_count": 29,
      "metadata": {
        "id": "9_bbXMfapII4"
      },
      "outputs": [],
      "source": [
        "class CausalSelfAttention(BaseAttention):\n",
        "  def call(self, x, mask):\n",
        "    attn_output, attention_scores = self.mha(\n",
        "        query=x,\n",
        "        value=x,\n",
        "        key=x,\n",
        "        mask=mask,\n",
        "        causal_mask=True)\n",
        "    x = self.add([x, attn_output])\n",
        "    x = self.layernorm(x)\n",
        "    return x"
      ]
    },
    {
      "cell_type": "code",
      "execution_count": 30,
      "metadata": {
        "colab": {
          "base_uri": "https://localhost:8080/"
        },
        "id": "dGOO3f7qqal6",
        "outputId": "c8dda6e2-c647-4671-b54b-0ef32a895134"
      },
      "outputs": [
        {
          "output_type": "stream",
          "name": "stdout",
          "text": [
            "(64, 105, 512)\n",
            "(64, 105, 512)\n"
          ]
        }
      ],
      "source": [
        "sample_csa = CausalSelfAttention(num_heads=2, d_model=512)\n",
        "\n",
        "print(en_emb.shape)\n",
        "print(sample_csa(en_emb, mask_dec).shape)"
      ]
    },
    {
      "cell_type": "markdown",
      "metadata": {
        "id": "W01UGFnMsKi1"
      },
      "source": [
        "The output for early sequence elements doesn't depend on later elements, so it shouldn't matter if you trim elements before or after applying the layer:\n"
      ]
    },
    {
      "cell_type": "code",
      "execution_count": 31,
      "metadata": {
        "id": "43QzwZ8krhyy"
      },
      "outputs": [],
      "source": [
        "# out1 = sample_csa(embed_en(en[:, :3]))\n",
        "# out2 = sample_csa(embed_en(en))[:, :3]\n",
        "\n",
        "# tf.reduce_max(abs(out1 - out2)).numpy()"
      ]
    },
    {
      "cell_type": "markdown",
      "metadata": {
        "id": "rHQCjj35IFI2"
      },
      "source": [
        "### 3. Feed Forward Layer"
      ]
    },
    {
      "cell_type": "code",
      "execution_count": 32,
      "metadata": {
        "id": "dVliR8kWrqzS"
      },
      "outputs": [],
      "source": [
        "# This layer needs dmodel and dff for initialization\n",
        "class FeedForward(tf.keras.layers.Layer):\n",
        "  def __init__(self, d_model, dropout_rate=0.1):\n",
        "    super().__init__()\n",
        "    self.seq = tf.keras.Sequential([\n",
        "      tf.keras.layers.Dense(d_model*10, activation='relu'),\n",
        "      tf.keras.layers.Dense(d_model),\n",
        "      tf.keras.layers.Dropout(dropout_rate)\n",
        "    ])\n",
        "    self.add = tf.keras.layers.Add()\n",
        "    self.layer_norm = tf.keras.layers.LayerNormalization()\n",
        "\n",
        "  def call(self, x):\n",
        "    x = self.add([x, self.seq(x)])\n",
        "    x = self.layer_norm(x)\n",
        "    return x"
      ]
    },
    {
      "cell_type": "code",
      "execution_count": 33,
      "metadata": {
        "colab": {
          "base_uri": "https://localhost:8080/"
        },
        "id": "Ld_KO0vxsexE",
        "outputId": "251b349e-f978-4c5a-bf24-d540a27bd834"
      },
      "outputs": [
        {
          "output_type": "stream",
          "name": "stdout",
          "text": [
            "(10, 600)\n",
            "(10, 600)\n"
          ]
        }
      ],
      "source": [
        "sample_ffn = FeedForward(600)\n",
        "\n",
        "inp = tf.random.uniform((10, 600))  # n, d\n",
        "print(inp.shape)\n",
        "print(sample_ffn(inp).shape)"
      ]
    },
    {
      "cell_type": "markdown",
      "metadata": {
        "id": "KSMsoixJILNJ"
      },
      "source": [
        "### 4. Encoder"
      ]
    },
    {
      "cell_type": "code",
      "execution_count": 34,
      "metadata": {
        "id": "_F1Mk2sPtYQi"
      },
      "outputs": [],
      "source": [
        "class EncoderLayer(tf.keras.layers.Layer):\n",
        "  def __init__(self,*, d_model, num_heads, dropout_rate=0.1):\n",
        "    super().__init__()\n",
        "\n",
        "    self.self_attention = GlobalSelfAttention(\n",
        "        num_heads=num_heads,\n",
        "        d_model=d_model,\n",
        "        dropout=dropout_rate)\n",
        "\n",
        "    self.ffn = FeedForward(d_model)\n",
        "\n",
        "  def call(self, x, mask):\n",
        "    x = self.self_attention(x, mask)\n",
        "    x = self.ffn(x)\n",
        "    return x"
      ]
    },
    {
      "cell_type": "code",
      "execution_count": 35,
      "metadata": {
        "colab": {
          "base_uri": "https://localhost:8080/"
        },
        "id": "RlqO6H6IzUgS",
        "outputId": "60614c71-5745-48d2-cf90-2b892678ce91"
      },
      "outputs": [
        {
          "output_type": "stream",
          "name": "stdout",
          "text": [
            "(64, 106, 512)\n",
            "(64, 106, 512)\n"
          ]
        }
      ],
      "source": [
        "sample_enc_layer = EncoderLayer(d_model=512, num_heads=2, dropout_rate=0.1)\n",
        "\n",
        "print(pt_emb.shape)\n",
        "print(sample_enc_layer(pt_emb, mask_enc).shape)"
      ]
    },
    {
      "cell_type": "code",
      "execution_count": 36,
      "metadata": {
        "id": "SsHpEaNizi3T"
      },
      "outputs": [],
      "source": [
        "class Encoder(tf.keras.layers.Layer):\n",
        "  def __init__(self, *, num_layers, d_model, num_heads,\n",
        "               vocab_size, dropout_rate=0.1):\n",
        "    super().__init__()\n",
        "\n",
        "    self.d_model = d_model\n",
        "    self.num_layers = num_layers\n",
        "\n",
        "    self.pos_embedding = PositionalEmbedding(\n",
        "        vocab_size=vocab_size, d_model=d_model)\n",
        "\n",
        "    self.enc_layers = [\n",
        "        EncoderLayer(d_model=d_model,\n",
        "                     num_heads=num_heads,\n",
        "                     dropout_rate=dropout_rate)\n",
        "        for _ in range(num_layers)]\n",
        "    self.dropout = tf.keras.layers.Dropout(dropout_rate)\n",
        "\n",
        "  def call(self, x):\n",
        "    # `x` is token-IDs shape: (batch, seq_len)\n",
        "    x = self.pos_embedding(x)  # Shape `(batch_size, seq_len, d_model)`.\n",
        "    mask = tf.cast(x._keras_mask, tf.float32)\n",
        "\n",
        "    # Add dropout.\n",
        "    x = self.dropout(x)\n",
        "\n",
        "    for i in range(self.num_layers):\n",
        "      x = self.enc_layers[i](x, mask)\n",
        "\n",
        "    return x  # Shape `(batch_size, seq_len, d_model)`."
      ]
    },
    {
      "cell_type": "code",
      "execution_count": 37,
      "metadata": {
        "colab": {
          "base_uri": "https://localhost:8080/"
        },
        "id": "TnnmlY0z1y20",
        "outputId": "911d5739-3f11-421a-c000-21ca29311f2b"
      },
      "outputs": [
        {
          "output_type": "stream",
          "name": "stdout",
          "text": [
            "(64, 106)\n",
            "(64, 106, 512)\n"
          ]
        }
      ],
      "source": [
        "# Instantiate the encoder.\n",
        "sample_encoder = Encoder(num_layers=4,\n",
        "                         d_model=512,\n",
        "                         num_heads=8,\n",
        "                         vocab_size=8500)\n",
        "\n",
        "sample_encoder_output = sample_encoder(pt, training=False)\n",
        "\n",
        "# Print the shape.\n",
        "print(pt.shape)\n",
        "print(sample_encoder_output.shape)  # Shape `(batch_size, input_seq_len, d_model)`."
      ]
    },
    {
      "cell_type": "markdown",
      "metadata": {
        "id": "TvuyEw3BITy9"
      },
      "source": [
        "### 5. Decoder"
      ]
    },
    {
      "cell_type": "code",
      "execution_count": 38,
      "metadata": {
        "id": "K4RI8CZV19ai"
      },
      "outputs": [],
      "source": [
        "class DecoderLayer(tf.keras.layers.Layer):\n",
        "  def __init__(self,\n",
        "               *,\n",
        "               d_model,\n",
        "               num_heads,\n",
        "               dropout_rate=0.1):\n",
        "    super(DecoderLayer, self).__init__()\n",
        "\n",
        "    self.causal_self_attention = CausalSelfAttention(\n",
        "        num_heads=num_heads,\n",
        "        d_model=d_model,\n",
        "        dropout=dropout_rate)\n",
        "\n",
        "    self.cross_attention = CrossAttention(\n",
        "        num_heads=num_heads,\n",
        "        d_model=d_model,\n",
        "        dropout=dropout_rate)\n",
        "\n",
        "    self.ffn = FeedForward(d_model)\n",
        "\n",
        "  def call(self, x, context, mask):\n",
        "    x = self.causal_self_attention(x=x, mask=mask)\n",
        "    x = self.cross_attention(x=x, context=context, mask=mask)\n",
        "\n",
        "    x = self.ffn(x)  # Shape `(batch_size, seq_len, d_model)`.\n",
        "    return x"
      ]
    },
    {
      "cell_type": "code",
      "execution_count": 39,
      "metadata": {
        "colab": {
          "base_uri": "https://localhost:8080/"
        },
        "id": "VuN0sv164RCU",
        "outputId": "35c6daf5-f9d3-4239-e712-22e1f7032ac6"
      },
      "outputs": [
        {
          "output_type": "stream",
          "name": "stdout",
          "text": [
            "(64, 105, 512)\n"
          ]
        }
      ],
      "source": [
        "sample_decoder_layer = DecoderLayer(d_model=512, num_heads=8)\n",
        "\n",
        "sample_decoder_layer_output = sample_decoder_layer(\n",
        "    x=en_emb, context=pt_emb, mask=mask_dec\n",
        ")\n",
        "\n",
        "print(sample_decoder_layer_output.shape)"
      ]
    },
    {
      "cell_type": "code",
      "execution_count": 40,
      "metadata": {
        "id": "ijHgsstU5BEE"
      },
      "outputs": [],
      "source": [
        "class Decoder(tf.keras.layers.Layer):\n",
        "  def __init__(self, *, num_layers, d_model, num_heads, vocab_size,\n",
        "               dropout_rate=0.1):\n",
        "    super(Decoder, self).__init__()\n",
        "\n",
        "    self.d_model = d_model\n",
        "    self.num_layers = num_layers\n",
        "\n",
        "    self.pos_embedding = PositionalEmbedding(vocab_size=vocab_size,\n",
        "                                             d_model=d_model)\n",
        "    self.dropout = tf.keras.layers.Dropout(dropout_rate)\n",
        "    self.dec_layers = [\n",
        "        DecoderLayer(d_model=d_model, num_heads=num_heads,\n",
        "                     dropout_rate=dropout_rate)\n",
        "        for _ in range(num_layers)]\n",
        "\n",
        "  def call(self, x, context):\n",
        "    # `x` is token-IDs shape (batch, target_seq_len)\n",
        "    x = self.pos_embedding(x)  # (batch_size, target_seq_len, d_model)\n",
        "    mask = tf.cast(x._keras_mask, tf.float32)\n",
        "\n",
        "    x = self.dropout(x)\n",
        "\n",
        "    for i in range(self.num_layers):\n",
        "      x  = self.dec_layers[i](x, context, mask)\n",
        "\n",
        "    # The shape of x is (batch_size, target_seq_len, d_model).\n",
        "    return x"
      ]
    },
    {
      "cell_type": "code",
      "execution_count": 41,
      "metadata": {
        "colab": {
          "base_uri": "https://localhost:8080/"
        },
        "id": "qbIsZYOM5keN",
        "outputId": "7e3a862a-dfe3-4129-9fd9-18fedd69c0b1"
      },
      "outputs": [
        {
          "output_type": "stream",
          "name": "stdout",
          "text": [
            "(64, 105)\n",
            "(64, 106, 512)\n",
            "(64, 105, 512)\n"
          ]
        }
      ],
      "source": [
        "# Instantiate the decoder\n",
        "sample_decoder = Decoder(num_layers=4,\n",
        "                         d_model=512,\n",
        "                         num_heads=8,\n",
        "                         vocab_size=8000)\n",
        "\n",
        "output = sample_decoder(\n",
        "    x=en,\n",
        "    context=pt_emb)\n",
        "\n",
        "# Print the shapes.\n",
        "print(en.shape)\n",
        "print(pt_emb.shape)\n",
        "print(output.shape)"
      ]
    },
    {
      "cell_type": "markdown",
      "metadata": {
        "id": "2E48_eqwIXVY"
      },
      "source": [
        "### 6. Transformer"
      ]
    },
    {
      "cell_type": "code",
      "execution_count": 42,
      "metadata": {
        "id": "1Iu4E0nj5mmT"
      },
      "outputs": [],
      "source": [
        "@tf.keras.utils.register_keras_serializable()\n",
        "class Transformer(tf.keras.Model):\n",
        "  def __init__(self, *, num_layers, d_model, num_heads,\n",
        "               input_vocab_size, target_vocab_size, dropout_rate=0.1):\n",
        "    super().__init__()\n",
        "    self.encoder = Encoder(num_layers=num_layers, d_model=d_model,\n",
        "                           num_heads=num_heads,\n",
        "                           vocab_size=input_vocab_size,\n",
        "                           dropout_rate=dropout_rate)\n",
        "\n",
        "    self.decoder = Decoder(num_layers=num_layers, d_model=d_model,\n",
        "                           num_heads=num_heads,\n",
        "                           vocab_size=target_vocab_size,\n",
        "                           dropout_rate=dropout_rate)\n",
        "\n",
        "    self.final_layer = tf.keras.layers.Dense(target_vocab_size)\n",
        "\n",
        "  def call(self, inputs):\n",
        "    # To use a Keras model with `.fit` you must pass all your inputs in the\n",
        "    # first argument.\n",
        "    context, x  = inputs\n",
        "\n",
        "    context = self.encoder(context)  # (batch_size, context_len, d_model)\n",
        "\n",
        "    x = self.decoder(x, context)  # (batch_size, target_len, d_model)\n",
        "\n",
        "    # Final linear layer output.\n",
        "    logits = self.final_layer(x)  # (batch_size, target_len, target_vocab_size)\n",
        "\n",
        "    try:\n",
        "      # Drop the keras mask, so it doesn't scale the losses/metrics.\n",
        "      # b/250038731\n",
        "      del logits._keras_mask\n",
        "    except AttributeError:\n",
        "      pass\n",
        "\n",
        "    # Return the final output and the attention weights.\n",
        "    return logits"
      ]
    },
    {
      "cell_type": "markdown",
      "metadata": {
        "id": "wLOCQS898JGn"
      },
      "source": [
        "## Hyperparameters"
      ]
    },
    {
      "cell_type": "code",
      "execution_count": 43,
      "metadata": {
        "id": "NjBZxc1V8CLT"
      },
      "outputs": [],
      "source": [
        "num_layers = 4\n",
        "d_model = 128\n",
        "num_heads = 8\n",
        "dropout_rate = 0.1"
      ]
    },
    {
      "cell_type": "code",
      "execution_count": 44,
      "metadata": {
        "id": "cXAIcbPd8PUG"
      },
      "outputs": [],
      "source": [
        "transformer = Transformer(\n",
        "    num_layers=num_layers,\n",
        "    d_model=d_model,\n",
        "    num_heads=num_heads,\n",
        "    input_vocab_size=tokenizers.pt.get_vocab_size().numpy(),\n",
        "    target_vocab_size=tokenizers.en.get_vocab_size().numpy(),\n",
        "    dropout_rate=dropout_rate)"
      ]
    },
    {
      "cell_type": "code",
      "execution_count": 45,
      "metadata": {
        "colab": {
          "base_uri": "https://localhost:8080/"
        },
        "id": "TWMUbh-68Ppj",
        "outputId": "59c5c4ab-aa41-46cf-df45-81d80bd4b0a3"
      },
      "outputs": [
        {
          "output_type": "stream",
          "name": "stdout",
          "text": [
            "(64, 105)\n",
            "(64, 106)\n",
            "(64, 105, 7010)\n"
          ]
        }
      ],
      "source": [
        "output = transformer((pt, en))\n",
        "\n",
        "print(en.shape)\n",
        "print(pt.shape)\n",
        "print(output.shape)"
      ]
    },
    {
      "cell_type": "code",
      "execution_count": null,
      "metadata": {
        "id": "leLmubcN8UIT"
      },
      "outputs": [],
      "source": [
        "# attn_scores = transformer.decoder.dec_layers[-1].last_attn_scores\n",
        "# print(attn_scores.shape)  # (batch, heads, target_seq, input_seq)"
      ]
    },
    {
      "cell_type": "code",
      "execution_count": null,
      "metadata": {
        "colab": {
          "base_uri": "https://localhost:8080/"
        },
        "id": "_Xw02z_f83pU",
        "outputId": "b4509a21-4f69-486e-a277-af207399e78d"
      },
      "outputs": [
        {
          "output_type": "stream",
          "name": "stdout",
          "text": [
            "Model: \"transformer\"\n",
            "_________________________________________________________________\n",
            " Layer (type)                Output Shape              Param #   \n",
            "=================================================================\n",
            " encoder_1 (Encoder)         multiple                  2576512   \n",
            "                                                                 \n",
            " decoder_1 (Decoder)         multiple                  2745088   \n",
            "                                                                 \n",
            " dense_158 (Dense)           multiple                  904290    \n",
            "                                                                 \n",
            "=================================================================\n",
            "Total params: 6225890 (23.75 MB)\n",
            "Trainable params: 6225890 (23.75 MB)\n",
            "Non-trainable params: 0 (0.00 Byte)\n",
            "_________________________________________________________________\n"
          ]
        }
      ],
      "source": [
        "transformer.summary()"
      ]
    },
    {
      "cell_type": "markdown",
      "metadata": {
        "id": "9cYJMUwxAhao"
      },
      "source": [
        "## Training Preparation\n",
        "\n"
      ]
    },
    {
      "cell_type": "code",
      "execution_count": null,
      "metadata": {
        "id": "WKWK8CJrAisX"
      },
      "outputs": [],
      "source": [
        "class CustomSchedule(tf.keras.optimizers.schedules.LearningRateSchedule):\n",
        "  def __init__(self, d_model, warmup_steps=4000):\n",
        "    super().__init__()\n",
        "\n",
        "    self.d_model = d_model\n",
        "    self.d_model = tf.cast(self.d_model, tf.float32)\n",
        "\n",
        "    self.warmup_steps = warmup_steps\n",
        "\n",
        "  def __call__(self, step):\n",
        "    step = tf.cast(step, dtype=tf.float32)\n",
        "    arg1 = tf.math.rsqrt(step)\n",
        "    arg2 = step * (self.warmup_steps ** -1.5)\n",
        "\n",
        "    return tf.math.rsqrt(self.d_model) * tf.math.minimum(arg1, arg2)"
      ]
    },
    {
      "cell_type": "code",
      "execution_count": null,
      "metadata": {
        "id": "zCoF35lHCCNT"
      },
      "outputs": [],
      "source": [
        "learning_rate = CustomSchedule(d_model)\n",
        "\n",
        "optimizer = tf.keras.optimizers.Adam(learning_rate, beta_1=0.9, beta_2=0.98,\n",
        "                                     epsilon=1e-9)"
      ]
    },
    {
      "cell_type": "code",
      "execution_count": null,
      "metadata": {
        "colab": {
          "base_uri": "https://localhost:8080/",
          "height": 466
        },
        "id": "fvStOMj1CuG7",
        "outputId": "54fd8d52-e9b5-4b85-d832-cb5047deec93"
      },
      "outputs": [
        {
          "output_type": "execute_result",
          "data": {
            "text/plain": [
              "Text(0.5, 0, 'Train Step')"
            ]
          },
          "metadata": {},
          "execution_count": 50
        },
        {
          "output_type": "display_data",
          "data": {
            "text/plain": [
              "<Figure size 640x480 with 1 Axes>"
            ],
            "image/png": "[encoded data removed]"
          },
          "metadata": {}
        }
      ],
      "source": [
        "plt.plot(learning_rate(tf.range(40000, dtype=tf.float32)))\n",
        "plt.ylabel('Learning Rate')\n",
        "plt.xlabel('Train Step')"
      ]
    },
    {
      "cell_type": "markdown",
      "metadata": {
        "id": "JCed00ECC7ul"
      },
      "source": [
        "## Set up loss metrics\n"
      ]
    },
    {
      "cell_type": "code",
      "execution_count": null,
      "metadata": {
        "id": "XrC1bimjCvnq"
      },
      "outputs": [],
      "source": [
        "def masked_loss(label, pred):\n",
        "  loss_object = tf.keras.losses.SparseCategoricalCrossentropy(\n",
        "      from_logits=True, reduction='none'\n",
        "  )\n",
        "  loss = loss_object(label, pred)\n",
        "  print()\n",
        "\n",
        "  mask = label!=0\n",
        "  mask = tf.cast(mask, dtype=loss.dtype)\n",
        "  loss *= mask\n",
        "\n",
        "  loss = tf.reduce_sum(loss)/tf.reduce_sum(mask)\n",
        "  return loss\n",
        "\n",
        "def masked_accuracy(label, pred):\n",
        "  pred = tf.argmax(pred, axis=2)\n",
        "  label = tf.cast(label, pred.dtype)\n",
        "\n",
        "  mask = label!=0\n",
        "  match = label==pred\n",
        "  match  = match & mask\n",
        "\n",
        "  match = tf.cast(match, dtype=tf.float32)\n",
        "  mask = tf.cast(mask, dtype=tf.float32)\n",
        "\n",
        "  return tf.reduce_sum(match)/tf.reduce_sum(mask)"
      ]
    },
    {
      "cell_type": "markdown",
      "metadata": {
        "id": "z2_kZ3qGHsRe"
      },
      "source": [
        "## Train the model"
      ]
    },
    {
      "cell_type": "code",
      "execution_count": null,
      "metadata": {
        "colab": {
          "base_uri": "https://localhost:8080/"
        },
        "id": "pqQvIX3yD9VF",
        "outputId": "eab9f265-db09-48d8-8784-82af2e7c40a8"
      },
      "outputs": [
        {
          "output_type": "stream",
          "name": "stdout",
          "text": [
            "\n",
            "Epoch: 0  Train Batch: 0/810\n",
            "\n",
            "Epoch: 0  Val Batch: 0/19\n"
          ]
        }
      ],
      "source": [
        "# Define the custom training loop\n",
        "file_path = \"results.txt\"\n",
        "n_epochs = 1\n",
        "train_size = len(train_batches)\n",
        "val_size = len(val_batches)\n",
        "cur_epoch = 0\n",
        "\n",
        "def custom_training_loop(model, train_batches, val_batches, epochs, optimizer, loss_fn):\n",
        "    global cur_epoch\n",
        "    for epoch in range(epochs):\n",
        "        total_loss = 0\n",
        "        total_accuracy = 0\n",
        "\n",
        "        cur_train = 0\n",
        "        cur_val = 0\n",
        "\n",
        "        # Training\n",
        "        for batch, (input_data, target_data) in enumerate(train_batches.take(1)):\n",
        "            with tf.GradientTape() as tape:\n",
        "                predictions = model(input_data, training=True)\n",
        "                loss = loss_fn(target_data, predictions)\n",
        "\n",
        "            gradients = tape.gradient(loss, model.trainable_variables)\n",
        "\n",
        "            optimizer.apply_gradients(zip(gradients, model.trainable_variables))\n",
        "\n",
        "            accuracy = masked_accuracy(target_data, predictions)\n",
        "\n",
        "            total_loss += loss\n",
        "            total_accuracy += accuracy\n",
        "\n",
        "            print(f\"Epoch: {cur_epoch}  Train Batch: {cur_train}/{train_size}\")\n",
        "            cur_train += 1\n",
        "\n",
        "        average_loss = total_loss / (batch + 1)\n",
        "        average_accuracy = total_accuracy / (batch + 1)\n",
        "\n",
        "        # Open the file in append mode\n",
        "        with open(file_path, \"a\") as file:\n",
        "            string_to_append = f\"Epoch {epoch + 1}/{epochs} - Loss: {average_loss:.4f} - Accuracy: {average_accuracy:.4f}\"\n",
        "            file.write(string_to_append)\n",
        "            file.write(\"\\n\")\n",
        "\n",
        "        # Validation\n",
        "        total_val_loss = 0\n",
        "        total_val_accuracy = 0\n",
        "        for batch, (input_data, target_data) in enumerate(val_batches.take(1)):\n",
        "            predictions = model(input_data, training=False)\n",
        "            loss = loss_fn(target_data, predictions)\n",
        "            accuracy = masked_accuracy(target_data, predictions)\n",
        "\n",
        "            total_val_loss += loss\n",
        "            total_val_accuracy += accuracy\n",
        "\n",
        "            print(f\"Epoch: {cur_epoch}  Val Batch: {cur_val}/{val_size}\")\n",
        "            cur_val += 1\n",
        "\n",
        "        average_val_loss = total_val_loss / (batch + 1)\n",
        "        average_val_accuracy = total_val_accuracy / (batch + 1)\n",
        "\n",
        "        with open(file_path, \"a\") as file:\n",
        "            string_to_append = f\"Validation Loss: {average_val_loss:.4f} - Validation Accuracy: {average_val_accuracy:.4f}\"\n",
        "            file.write(string_to_append)\n",
        "            file.write(\"\\n\\n\")\n",
        "\n",
        "        cur_epoch += 1\n",
        "\n",
        "# Call the custom training loop\n",
        "custom_training_loop(transformer, train_batches, val_batches, epochs=n_epochs, optimizer=optimizer, loss_fn=masked_loss)\n"
      ]
    },
    {
      "cell_type": "code",
      "execution_count": null,
      "metadata": {
        "id": "e1-KUy54Hqhk"
      },
      "outputs": [],
      "source": [
        "# transformer.compile(\n",
        "#     loss=masked_loss,\n",
        "#     optimizer=optimizer,\n",
        "#     metrics=[masked_accuracy])"
      ]
    },
    {
      "cell_type": "code",
      "execution_count": null,
      "metadata": {
        "id": "GcowZMrkHuii"
      },
      "outputs": [],
      "source": [
        "# transformer.fit(train_batches,\n",
        "#                 epochs=20,\n",
        "#                 validation_data=val_batches)"
      ]
    },
    {
      "cell_type": "code",
      "execution_count": null,
      "metadata": {
        "id": "rIpUXa3k4xRY"
      },
      "outputs": [],
      "source": [
        "# transformer.save('model.keras')"
      ]
    },
    {
      "cell_type": "code",
      "execution_count": null,
      "metadata": {
        "id": "12JjTIVh4xRY"
      },
      "outputs": [],
      "source": [
        "# # Load the saved model\n",
        "# loaded_transformer = tf.keras.models.load_model('model.keras')"
      ]
    },
    {
      "cell_type": "markdown",
      "metadata": {
        "id": "eQ_k6xrMb6P9"
      },
      "source": [
        "## Translator"
      ]
    },
    {
      "cell_type": "code",
      "execution_count": null,
      "metadata": {
        "id": "eY_uXsOhSmbb"
      },
      "outputs": [],
      "source": [
        "class Translator(tf.Module):\n",
        "  def __init__(self, tokenizers, transformer):\n",
        "    self.tokenizers = tokenizers\n",
        "    self.transformer = transformer\n",
        "\n",
        "  def __call__(self, sentence, max_length=MAX_TOKENS):\n",
        "    # The input sentence is Portuguese, hence adding the `[START]` and `[END]` tokens.\n",
        "    assert isinstance(sentence, tf.Tensor)\n",
        "    if len(sentence.shape) == 0:\n",
        "      sentence = sentence[tf.newaxis]\n",
        "\n",
        "    sentence = self.tokenizers.pt.tokenize(sentence).to_tensor()\n",
        "\n",
        "    encoder_input = sentence  # (1, 11)\n",
        "\n",
        "    # As the output language is English, initialize the output with the\n",
        "    # English `[START]` token.\n",
        "    start_end = self.tokenizers.en.tokenize([''])[0]  # shape=(2,)\n",
        "    start = start_end[0][tf.newaxis]  # shape=(1,)\n",
        "    end = start_end[1][tf.newaxis]  # shape=(1,)\n",
        "\n",
        "    # `tf.TensorArray` is required here (instead of a Python list), so that the\n",
        "    # dynamic-loop can be traced by `tf.function`.\n",
        "    output_array = tf.TensorArray(dtype=tf.int64, size=0, dynamic_size=True)\n",
        "    output_array = output_array.write(0, start)\n",
        "\n",
        "    for i in tf.range(max_length):\n",
        "      output = tf.transpose(output_array.stack())  # (1, X)\n",
        "      predictions = self.transformer([encoder_input, output], training=False)\n",
        "      # print(f\"Shape of prediction is: {predictions.shape}\")\n",
        "      # Select the last token from the `seq_len` dimension.\n",
        "      predictions = predictions[:, -1:, :]  # Shape `(batch_size, 1, vocab_size)`.\n",
        "\n",
        "      predicted_id = tf.argmax(predictions, axis=-1)\n",
        "\n",
        "      # Concatenate the `predicted_id` to the output which is given to the\n",
        "      # decoder as its input.\n",
        "      output_array = output_array.write(i+1, predicted_id[0])  # Writing a tensor of shape 1\n",
        "\n",
        "      if predicted_id == end:\n",
        "        break\n",
        "\n",
        "    output = tf.transpose(output_array.stack())\n",
        "    # The output shape is `(1, tokens)`.\n",
        "    text = tokenizers.en.detokenize(output)[0]  # Shape: `()`.\n",
        "\n",
        "    tokens = tokenizers.en.lookup(output)[0]\n",
        "\n",
        "    # `tf.function` prevents us from using the attention_weights that were\n",
        "    # calculated on the last iteration of the loop.\n",
        "    # So, recalculate them outside the loop.\n",
        "    self.transformer([encoder_input, output[:,:-1]], training=False)\n",
        "\n",
        "    return text, tokens"
      ]
    },
    {
      "cell_type": "code",
      "execution_count": null,
      "metadata": {
        "id": "DeyQul6ZvxyI"
      },
      "outputs": [],
      "source": [
        "def print_translation(sentence, tokens, ground_truth):\n",
        "  print(f'{\"Input:\":15s}: {sentence}')\n",
        "  print(f'{\"Prediction\":15s}: {tokens.numpy().decode(\"utf-8\")}')\n",
        "  print(f'{\"Ground truth\":15s}: {ground_truth}')"
      ]
    },
    {
      "cell_type": "code",
      "execution_count": null,
      "metadata": {
        "id": "9J1Zrs10vjen"
      },
      "outputs": [],
      "source": [
        "translator = Translator(tokenizers, transformer)"
      ]
    },
    {
      "cell_type": "code",
      "execution_count": null,
      "metadata": {
        "id": "-i-_RwV3m-hB"
      },
      "outputs": [],
      "source": [
        "sentence = 'este é um problema que temos que resolver.'\n",
        "ground_truth = 'this is a problem we have to solve .'\n",
        "\n",
        "translated_text, translated_tokens = translator(\n",
        "    tf.constant(sentence))\n",
        "print_translation(sentence, translated_text, ground_truth)"
      ]
    },
    {
      "cell_type": "markdown",
      "source": [
        "# Testing"
      ],
      "metadata": {
        "id": "E-4zpdHE91_r"
      }
    },
    {
      "cell_type": "code",
      "execution_count": null,
      "metadata": {
        "id": "EWuTkTIG4xRa"
      },
      "outputs": [],
      "source": [
        "cont = tf.ones((1, 11))\n",
        "enc = tf.ones((1, 2))"
      ]
    },
    {
      "cell_type": "code",
      "execution_count": null,
      "metadata": {
        "colab": {
          "base_uri": "https://localhost:8080/"
        },
        "id": "_-UYPBTB4xRa",
        "outputId": "4e50d7d2-d487-4eea-9ba8-82c6d147e93a"
      },
      "outputs": [
        {
          "output_type": "stream",
          "name": "stdout",
          "text": [
            "(1, 11, 128)\n"
          ]
        }
      ],
      "source": [
        "context = transformer.encoder(cont)\n",
        "print(context.shape)"
      ]
    },
    {
      "cell_type": "code",
      "source": [
        "x = transformer.decoder(enc, context)"
      ],
      "metadata": {
        "id": "k5OEl1EC6BVF"
      },
      "execution_count": null,
      "outputs": []
    }
  ],
  "metadata": {
    "colab": {
      "provenance": []
    },
    "kernelspec": {
      "display_name": "Python 3",
      "name": "python3"
    },
    "language_info": {
      "codemirror_mode": {
        "name": "ipython",
        "version": 3
      },
      "file_extension": ".py",
      "mimetype": "text/x-python",
      "name": "python",
      "nbconvert_exporter": "python",
      "pygments_lexer": "ipython3",
      "version": "3.11.0"
    }
  },
  "nbformat": 4,
  "nbformat_minor": 0
}