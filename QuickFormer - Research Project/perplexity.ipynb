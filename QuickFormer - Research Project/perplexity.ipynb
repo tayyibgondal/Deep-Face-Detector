{
 "cells": [
  {
   "cell_type": "code",
   "execution_count": 2,
   "metadata": {},
   "outputs": [],
   "source": [
    "import transformers"
   ]
  },
  {
   "cell_type": "code",
   "execution_count": 15,
   "metadata": {},
   "outputs": [
    {
     "name": "stdout",
     "output_type": "stream",
     "text": [
      "4.54125272975361\n",
      "1248.349003258662\n"
     ]
    }
   ],
   "source": [
    "from transformers import AutoModelForMaskedLM, AutoTokenizer\n",
    "import torch\n",
    "import numpy as np\n",
    "\n",
    "model_name = 'cointegrated/rubert-tiny'\n",
    "model = AutoModelForMaskedLM.from_pretrained(model_name)\n",
    "tokenizer = AutoTokenizer.from_pretrained(model_name)\n",
    "\n",
    "def score(model, tokenizer, sentence):\n",
    "    tensor_input = tokenizer.encode(sentence, return_tensors='pt')\n",
    "    repeat_input = tensor_input.repeat(tensor_input.size(-1)-2, 1)\n",
    "    mask = torch.ones(tensor_input.size(-1) - 1).diag(1)[:-2]\n",
    "    masked_input = repeat_input.masked_fill(mask == 1, tokenizer.mask_token_id)\n",
    "    labels = repeat_input.masked_fill( masked_input != tokenizer.mask_token_id, -100)\n",
    "    with torch.inference_mode():\n",
    "        loss = model(masked_input, labels=labels).loss\n",
    "    return np.exp(loss.item())\n",
    "\n",
    "print(score(sentence='London is the capital of Great Britain.', model=model, tokenizer=tokenizer)) \n",
    "# 4.541251105675365\n",
    "print(score(sentence='''lady anne\n",
    "would it were mortal quarrel whose hands\n",
    "he hath it that makes your servants life\n",
    "who slew your fort\n",
    "provided there no suit is granted are\n",
    "as you are malapert\n",
    "your firenew stamp of honour is scarce current\n",
    "o that your young nobility could judge\n",
    "what twere to lose it and be miserable\n",
    "they that stand high have many blasts to shake them\n",
    "and if they fall they dash themselves to pieces\n",
    "\n",
    "gloucester\n",
    "good counsel marry learn it learn it marquess\n",
    "\n",
    "dorset\n",
    "it toucheth you my lord as much as me\n",
    "\n",
    "gloucester\n",
    "yea and much more but i was born so high\n",
    "our aery buildeth in the tub\n",
    "\n",
    "lucio\n",
    "why tis good it is the right of it it must be\n",
    "so ever your fresh whore and your powdered bawd\n",
    "an unshunned consequence it must be so art going\n",
    "to prison pompey\n",
    "\n",
    "pompey\n",
    "yes faith sir\n",
    "\n",
    "lucio\n",
    "why tis not amiss pompey farewell go say i\n",
    "sent thee thither for debt pompey or how\n",
    "\n",
    "elbow\n",
    "for being a bawd for being a bawd\n",
    "\n",
    "lucio\n",
    "well then imprison him o thats sudden spare him spare him\n",
    "hes not prepared for death even for our kitchens\n",
    "we kill the fowl of season shall we serve heaven\n",
    "with less respect than we do minister\n",
    "to our gross selves good good my lord bethink you\n",
    "who is it that hath died for this offence\n",
    "theres many greedy leap rather than marry paris\n",
    "from off the battlements of yonder tower\n",
    "or walk in thievish ways or a footman\n",
    "''', model=model, tokenizer=tokenizer)) \n",
    "# 6.162017238332462"
   ]
  },
  {
   "cell_type": "code",
   "execution_count": null,
   "metadata": {},
   "outputs": [],
   "source": []
  }
 ],
 "metadata": {
  "kernelspec": {
   "display_name": "Python 3",
   "language": "python",
   "name": "python3"
  },
  "language_info": {
   "codemirror_mode": {
    "name": "ipython",
    "version": 3
   },
   "file_extension": ".py",
   "mimetype": "text/x-python",
   "name": "python",
   "nbconvert_exporter": "python",
   "pygments_lexer": "ipython3",
   "version": "3.10.12"
  },
  "orig_nbformat": 4
 },
 "nbformat": 4,
 "nbformat_minor": 2
}
