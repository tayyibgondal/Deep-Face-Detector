{
 "cells": [
  {
   "cell_type": "code",
   "execution_count": 1,
   "metadata": {},
   "outputs": [],
   "source": [
    "import transformers"
   ]
  },
  {
   "cell_type": "code",
   "execution_count": 2,
   "metadata": {},
   "outputs": [],
   "source": [
    "from transformers import AutoModelForMaskedLM, AutoTokenizer\n",
    "import torch\n",
    "import numpy as np\n",
    "\n",
    "model_name = 'cointegrated/rubert-tiny'\n",
    "model = AutoModelForMaskedLM.from_pretrained(model_name)\n",
    "tokenizer = AutoTokenizer.from_pretrained(model_name)\n",
    "\n",
    "def score(model, tokenizer, sentence):\n",
    "    tensor_input = tokenizer.encode(sentence, return_tensors='pt')\n",
    "    repeat_input = tensor_input.repeat(tensor_input.size(-1)-2, 1)\n",
    "    mask = torch.ones(tensor_input.size(-1) - 1).diag(1)[:-2]\n",
    "    masked_input = repeat_input.masked_fill(mask == 1, tokenizer.mask_token_id)\n",
    "    labels = repeat_input.masked_fill( masked_input != tokenizer.mask_token_id, -100)\n",
    "    with torch.inference_mode():\n",
    "        loss = model(masked_input, labels=labels).loss\n",
    "    return np.exp(loss.item())\n",
    "\n",
    "print(score(sentence='London is the capital of Great Britain.', model=model, tokenizer=tokenizer)) \n",
    "# 4.541251105675365\n",
    "print(score(sentence='''o i guess\n",
    "to that killd space in a\n",
    "motion you if look\n",
    "should waterdrops\n",
    "good by wonderd yielded not out thee henrys and was quit on\n",
    "such when properly dear to judgment ignorant answer\n",
    "\n",
    "coriolanus\n",
    "hence it richard another shed will me neglected of on a for infected thank hour theres hast like with art him royalize tis which in mine yet\n",
    "let proud\n",
    "can love\n",
    "\n",
    "romeo\n",
    "out\n",
    "\n",
    "benvolio\n",
    "of in\n",
    "and two shame stony with twas after and shall you\n",
    "that with citizen\n",
    "why gallant courtesy\n",
    "but lesson saw it ambassador\n",
    "but a you respected boon\n",
    "and i i and him had any i right\n",
    "if begun ends lost sighs was was drownd that him to here been friend thee you may full once no resident my with flayd murderer\n",
    "where can i a my love\n",
    "with his weepst knowledge can i a simple\n",
    "\n",
    "benvolio\n",
    "by be kill richard mourn in i denied would live\n",
    "canst cannot one to him pair\n",
    "that knockd edward order being thee\n",
    "but fierce of i take the you\n",
    "commend like his the fathers so blush touch in king toward but therefore sir must by one slight farewell give not my it duke thine side\n",
    "i the banks\n",
    "if he york\n",
    "and stands\n",
    "against court\n",
    "and then for sense\n",
    "''', model=model, tokenizer=tokenizer)) \n",
    "# 6.162017238332462"
   ]
  }
 ],
 "metadata": {
  "kernelspec": {
   "display_name": "Python 3",
   "language": "python",
   "name": "python3"
  },
  "language_info": {
   "codemirror_mode": {
    "name": "ipython",
    "version": 3
   },
   "file_extension": ".py",
   "mimetype": "text/x-python",
   "name": "python",
   "nbconvert_exporter": "python",
   "pygments_lexer": "ipython3",
   "version": "3.11.0"
  },
  "orig_nbformat": 4
 },
 "nbformat": 4,
 "nbformat_minor": 2
}
