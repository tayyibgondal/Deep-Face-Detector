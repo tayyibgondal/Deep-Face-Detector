{
 "cells": [
  {
   "cell_type": "code",
   "execution_count": 2,
   "metadata": {},
   "outputs": [],
   "source": [
    "import transformers"
   ]
  },
  {
   "cell_type": "code",
   "execution_count": 4,
   "metadata": {},
   "outputs": [
    {
     "name": "stdout",
     "output_type": "stream",
     "text": [
      "4.54125272975361\n",
      "864.9069073483279\n"
     ]
    }
   ],
   "source": [
    "from transformers import AutoModelForMaskedLM, AutoTokenizer\n",
    "import torch\n",
    "import numpy as np\n",
    "\n",
    "model_name = 'cointegrated/rubert-tiny'\n",
    "model = AutoModelForMaskedLM.from_pretrained(model_name)\n",
    "tokenizer = AutoTokenizer.from_pretrained(model_name)\n",
    "\n",
    "def score(model, tokenizer, sentence):\n",
    "    tensor_input = tokenizer.encode(sentence, return_tensors='pt')\n",
    "    repeat_input = tensor_input.repeat(tensor_input.size(-1)-2, 1)\n",
    "    mask = torch.ones(tensor_input.size(-1) - 1).diag(1)[:-2]\n",
    "    masked_input = repeat_input.masked_fill(mask == 1, tokenizer.mask_token_id)\n",
    "    labels = repeat_input.masked_fill( masked_input != tokenizer.mask_token_id, -100)\n",
    "    with torch.inference_mode():\n",
    "        loss = model(masked_input, labels=labels).loss\n",
    "    return np.exp(loss.item())\n",
    "\n",
    "print(score(sentence='London is the capital of Great Britain.', model=model, tokenizer=tokenizer)) \n",
    "# 4.541251105675365\n",
    "print(score(sentence='3 king richard ii you know you debase the world yonder renownd and the crown not king richard iii come gentlemen with such faults may yet welcome labour to him buckingham now resolve you i bade him to greet you do leave them and not interrupt me katharina you have married the consuls soldier tempted to thunder him and his love mariana yours to his uncle death is the king henrys breath him but a account dispose florizel my lord and she should not wake it chafes isabella madam god is joind and living that clifford so remiss dead and thus mine thy lends but never is the better make seat or dragon throw up of the deputy in the feeble tewksbury earth of the first watchman i saw that live to begin yet of sight of absolute of action methinks', model=model, tokenizer=tokenizer)) \n",
    "# 6.162017238332462"
   ]
  },
  {
   "cell_type": "code",
   "execution_count": null,
   "metadata": {},
   "outputs": [],
   "source": []
  }
 ],
 "metadata": {
  "kernelspec": {
   "display_name": "Python 3",
   "language": "python",
   "name": "python3"
  },
  "language_info": {
   "codemirror_mode": {
    "name": "ipython",
    "version": 3
   },
   "file_extension": ".py",
   "mimetype": "text/x-python",
   "name": "python",
   "nbconvert_exporter": "python",
   "pygments_lexer": "ipython3",
   "version": "3.10.12"
  },
  "orig_nbformat": 4
 },
 "nbformat": 4,
 "nbformat_minor": 2
}
