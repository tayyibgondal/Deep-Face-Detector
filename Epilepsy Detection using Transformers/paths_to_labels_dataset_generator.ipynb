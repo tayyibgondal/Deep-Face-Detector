{
 "cells": [
  {
   "cell_type": "code",
   "execution_count": 1,
   "metadata": {},
   "outputs": [],
   "source": [
    "import pandas as pd"
   ]
  },
  {
   "cell_type": "code",
   "execution_count": 13,
   "metadata": {},
   "outputs": [
    {
     "data": {
      "text/plain": [
       "<bound method NDFrame.head of      recordname     label  age         gender    loc\n",
       "0   0000001.edf    normal   22  not specified  train\n",
       "1   0000002.edf  abnormal   12         female  train\n",
       "2   0000003.edf    normal   37           male  train\n",
       "3   0000004.edf  abnormal   12           male  train\n",
       "4   0000005.edf    normal   40           male  train\n",
       "..          ...       ...  ...            ...    ...\n",
       "95  0000096.edf    normal   38           male  train\n",
       "96  0000097.edf    normal   55           male  train\n",
       "97  0000098.edf    normal   17           male  train\n",
       "98  0000099.edf  abnormal   25         female  train\n",
       "99  0000100.edf    normal   80           male  train\n",
       "\n",
       "[100 rows x 5 columns]>"
      ]
     },
     "execution_count": 13,
     "metadata": {},
     "output_type": "execute_result"
    }
   ],
   "source": [
    "df = pd.read_csv(r\"C:\\Users\\DELL\\Downloads\\tukl\\Implementations\\eegformer\\dataset_s\\labels.csv\")\n",
    "df.head"
   ]
  },
  {
   "cell_type": "code",
   "execution_count": 11,
   "metadata": {},
   "outputs": [],
   "source": [
    "paths = []\n",
    "labels = []\n",
    "\n",
    "for index, row in df.iterrows():\n",
    "    # Access individual row entries\n",
    "    column1_value = row['recordname']\n",
    "    column2_value = row['label']\n",
    "    column3_value = row['loc']\n",
    "    path = \"C:\\\\Users\\\\DELL\\\\Downloads\\\\tukl\\\\Implementations\\\\eegformer\\\\dataset_s\\\\\" + column2_value + \"\\\\\" + column3_value + \"\\\\\" + column1_value\n",
    "    y = 0 if column2_value == 'normal' else 1\n",
    "\n",
    "    paths.append(path)\n",
    "    labels.append(y)"
   ]
  },
  {
   "cell_type": "code",
   "execution_count": 12,
   "metadata": {},
   "outputs": [
    {
     "name": "stdout",
     "output_type": "stream",
     "text": [
      "path: C:\\Users\\DELL\\Downloads\\tukl\\Implementations\\eegformer\\dataset_s\\normal\\train\\0000001.edf \t  label: 0\n",
      "path: C:\\Users\\DELL\\Downloads\\tukl\\Implementations\\eegformer\\dataset_s\\abnormal\\train\\0000002.edf \t  label: 1\n",
      "path: C:\\Users\\DELL\\Downloads\\tukl\\Implementations\\eegformer\\dataset_s\\normal\\train\\0000003.edf \t  label: 0\n",
      "path: C:\\Users\\DELL\\Downloads\\tukl\\Implementations\\eegformer\\dataset_s\\abnormal\\train\\0000004.edf \t  label: 1\n",
      "path: C:\\Users\\DELL\\Downloads\\tukl\\Implementations\\eegformer\\dataset_s\\normal\\train\\0000005.edf \t  label: 0\n"
     ]
    }
   ],
   "source": [
    "for i in range(5):\n",
    "    print(f'path: {paths[i]} \\t  label: {labels[i]}')"
   ]
  },
  {
   "cell_type": "code",
   "execution_count": 14,
   "metadata": {},
   "outputs": [],
   "source": [
    "# Creating a dictionary\n",
    "new_data = {\n",
    "    'paths': paths,\n",
    "    'labels': labels\n",
    "}\n",
    "\n",
    "new_dataframe = pd.DataFrame(new_data)\n",
    "\n",
    "path_to_new_csv = r\"C:\\Users\\DELL\\Downloads\\tukl\\Implementations\\eegformer\\dataset_s\\new.csv\"\n",
    "new_dataframe.to_csv(path_to_new_csv, index=False)"
   ]
  },
  {
   "cell_type": "code",
   "execution_count": null,
   "metadata": {},
   "outputs": [],
   "source": []
  }
 ],
 "metadata": {
  "kernelspec": {
   "display_name": "Python 3",
   "language": "python",
   "name": "python3"
  },
  "language_info": {
   "codemirror_mode": {
    "name": "ipython",
    "version": 3
   },
   "file_extension": ".py",
   "mimetype": "text/x-python",
   "name": "python",
   "nbconvert_exporter": "python",
   "pygments_lexer": "ipython3",
   "version": "3.11.0"
  },
  "orig_nbformat": 4
 },
 "nbformat": 4,
 "nbformat_minor": 2
}
